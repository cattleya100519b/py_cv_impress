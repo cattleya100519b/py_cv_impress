{
 "cells": [
  {
   "cell_type": "markdown",
   "id": "c8189ef6",
   "metadata": {},
   "source": [
    "# 1. 画像認識とは"
   ]
  },
  {
   "cell_type": "markdown",
   "id": "c65cdf20",
   "metadata": {},
   "source": [
    "## 1-4. 画像認識の為の開発環境構築"
   ]
  },
  {
   "cell_type": "markdown",
   "id": "9fdc2b15",
   "metadata": {},
   "source": [
    "- code 1.1 Docker (CUDA or MPS) の動作確認"
   ]
  },
  {
   "cell_type": "code",
   "execution_count": 1,
   "id": "cf1395f1",
   "metadata": {},
   "outputs": [],
   "source": [
    "import torch"
   ]
  },
  {
   "cell_type": "code",
   "execution_count": 2,
   "id": "7165ad29",
   "metadata": {},
   "outputs": [
    {
     "name": "stdout",
     "output_type": "stream",
     "text": [
      "CPU: tensor([1, 2, 3, 4])\n"
     ]
    }
   ],
   "source": [
    "x = torch.tensor([1,2,3,4])\n",
    "print(f'CPU: {x}')"
   ]
  },
  {
   "cell_type": "code",
   "execution_count": 3,
   "id": "d8448cf6",
   "metadata": {},
   "outputs": [],
   "source": [
    "from common import get_device\n",
    "device = get_device()"
   ]
  },
  {
   "cell_type": "code",
   "execution_count": 4,
   "id": "00c2da9e",
   "metadata": {},
   "outputs": [
    {
     "name": "stdout",
     "output_type": "stream",
     "text": [
      "GPU: tensor([1, 2, 3, 4], device='mps:0')\n"
     ]
    }
   ],
   "source": [
    "# x = x.to('cuda')\n",
    "x = x.to(device)\n",
    "print(f'GPU: {x}')"
   ]
  }
 ],
 "metadata": {
  "kernelspec": {
   "display_name": ".venv",
   "language": "python",
   "name": "python3"
  },
  "language_info": {
   "codemirror_mode": {
    "name": "ipython",
    "version": 3
   },
   "file_extension": ".py",
   "mimetype": "text/x-python",
   "name": "python",
   "nbconvert_exporter": "python",
   "pygments_lexer": "ipython3",
   "version": "3.13.7"
  }
 },
 "nbformat": 4,
 "nbformat_minor": 5
}
